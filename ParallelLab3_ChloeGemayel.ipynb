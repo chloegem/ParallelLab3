{
  "nbformat": 4,
  "nbformat_minor": 0,
  "metadata": {
    "colab": {
      "provenance": [],
      "gpuType": "T4"
    },
    "kernelspec": {
      "name": "python3",
      "display_name": "Python 3"
    },
    "language_info": {
      "name": "python"
    },
    "accelerator": "GPU"
  },
  "cells": [
    {
      "cell_type": "markdown",
      "source": [],
      "metadata": {
        "id": "p3YW1hPVpvas"
      }
    },
    {
      "cell_type": "markdown",
      "source": [
        "# ***IF YOU'RE INTERESTING IN RUNNING THE CUDA CODE PLEASE CHANGE YOUR RUNTIME FROM CPU TO GPU -------AUTHOR: CHLOE GEMAYEL***  #"
      ],
      "metadata": {
        "id": "xTEn8ZU8p3rS"
      }
    },
    {
      "cell_type": "code",
      "execution_count": 3,
      "metadata": {
        "colab": {
          "base_uri": "https://localhost:8080/"
        },
        "id": "IxtpH3_EFRvy",
        "outputId": "87665780-8203-4a47-c2f0-f2c7ef0b56ff"
      },
      "outputs": [
        {
          "output_type": "stream",
          "name": "stdout",
          "text": [
            "Collecting git+https://github.com/andreinechaev/nvcc4jupyter.git\n",
            "  Cloning https://github.com/andreinechaev/nvcc4jupyter.git to /tmp/pip-req-build-aje763z8\n",
            "  Running command git clone --filter=blob:none --quiet https://github.com/andreinechaev/nvcc4jupyter.git /tmp/pip-req-build-aje763z8\n",
            "  Resolved https://github.com/andreinechaev/nvcc4jupyter.git to commit 0a71d56e5dce3ff1f0dd2c47c29367629262f527\n",
            "  Preparing metadata (setup.py) ... \u001b[?25l\u001b[?25hdone\n",
            "Building wheels for collected packages: NVCCPlugin\n",
            "  Building wheel for NVCCPlugin (setup.py) ... \u001b[?25l\u001b[?25hdone\n",
            "  Created wheel for NVCCPlugin: filename=NVCCPlugin-0.0.2-py3-none-any.whl size=4294 sha256=c43781aa89b8471c70aed450f46f0503e077c435841edf3cb732cf75218a4f5b\n",
            "  Stored in directory: /tmp/pip-ephem-wheel-cache-u0zyy22h/wheels/a8/b9/18/23f8ef71ceb0f63297dd1903aedd067e6243a68ea756d6feea\n",
            "Successfully built NVCCPlugin\n",
            "Installing collected packages: NVCCPlugin\n",
            "Successfully installed NVCCPlugin-0.0.2\n"
          ]
        }
      ],
      "source": [
        "!pip install git+https://github.com/andreinechaev/nvcc4jupyter.git"
      ]
    },
    {
      "cell_type": "code",
      "source": [
        "%load_ext nvcc_plugin"
      ],
      "metadata": {
        "colab": {
          "base_uri": "https://localhost:8080/"
        },
        "id": "eXyDBDMbFdsC",
        "outputId": "ee8deb84-d979-446e-af09-607edafe557b"
      },
      "execution_count": 4,
      "outputs": [
        {
          "output_type": "stream",
          "name": "stdout",
          "text": [
            "created output directory at /content/src\n",
            "Out bin /content/result.out\n"
          ]
        }
      ]
    },
    {
      "cell_type": "markdown",
      "source": [
        "**CUDA MATRIX MULTIPLICATION**"
      ],
      "metadata": {
        "id": "AsCaclkZLAe4"
      }
    },
    {
      "cell_type": "code",
      "source": [
        "%%cu\n",
        "#include <stdio.h>\n",
        "#include <cuda_runtime.h>\n",
        "#include <stdlib.h>\n",
        "\n",
        "__global__ void matrixMulBasic(float *a, float *b, float *c, int M, int N, int K);\n",
        "\n",
        "int main() {\n",
        "    const int M = 3;  //Number of rows in matrix A\n",
        "    const int N = 3;  //Number of columns in matrix A and rows in matrix B\n",
        "    const int K = 3;\n",
        "\n",
        "    float h_A[M * N] = {1.0, 2.0, 3.0, 4.0, 5.0, 6.0, 7.0, 8.0, 9.0};\n",
        "    float h_B[N * K] = {9.0, 8.0, 7.0, 6.0, 5.0, 4.0, 3.0, 2.0, 1.0};\n",
        "    float h_C[M * K] = {0.0};\n",
        "\n",
        "    float *d_A, *d_B, *d_C;\n",
        "    cudaMalloc((void **)&d_A, M * N * sizeof(float));\n",
        "    cudaMalloc((void **)&d_B, N * K * sizeof(float));\n",
        "    cudaMalloc((void **)&d_C, M * K * sizeof(float));\n",
        "\n",
        "    cudaMemcpy(d_A, h_A, M * N * sizeof(float), cudaMemcpyHostToDevice);\n",
        "    cudaMemcpy(d_B, h_B, N * K * sizeof(float), cudaMemcpyHostToDevice);\n",
        "\n",
        "    dim3 dimGrid((K - 1) / 16 + 1, (M - 1) / 16 + 1, 1);\n",
        "    dim3 dimBlock(16, 16, 1);\n",
        "\n",
        "    cudaEvent_t start, stop;\n",
        "    cudaEventCreate(&start);\n",
        "    cudaEventCreate(&stop);\n",
        "\n",
        "    cudaEventRecord(start);\n",
        "    matrixMulBasic<<<dimGrid, dimBlock>>>(d_A, d_B, d_C, M, N, K);\n",
        "    cudaEventRecord(stop);\n",
        "\n",
        "    //Copy the result from device to host\n",
        "    cudaMemcpy(h_C, d_C, M * K * sizeof(float), cudaMemcpyDeviceToHost);\n",
        "\n",
        "    cudaError_t cudaErr = cudaGetLastError();\n",
        "    if (cudaErr != cudaSuccess) {\n",
        "        fprintf(stderr, \"CUDA error: %s\\n\", cudaGetErrorString(cudaErr));\n",
        "        return -1;\n",
        "    }\n",
        "\n",
        "    printf(\"Result Matrix C:\\n\");\n",
        "    for (int i = 0; i < M; ++i) {\n",
        "        for (int j = 0; j < K; ++j) {\n",
        "            printf(\"%.2f\\t\", h_C[i * K + j]);\n",
        "        }\n",
        "        printf(\"\\n\");\n",
        "    }\n",
        "\n",
        "    cudaEventSynchronize(stop);\n",
        "    float milliseconds = 0;\n",
        "    cudaEventElapsedTime(&milliseconds, start, stop);\n",
        "    printf(\"Execution Time: %f ms\\n\", milliseconds);\n",
        "\n",
        "    cudaFree(d_A);\n",
        "    cudaFree(d_B);\n",
        "    cudaFree(d_C);\n",
        "\n",
        "    return 0;\n",
        "}\n",
        "\n",
        "__global__ void matrixMulBasic(float *a, float *b, float *c, int M, int N, int K) {\n",
        "    int row = blockIdx.y * blockDim.y + threadIdx.y;\n",
        "    int col = blockIdx.x * blockDim.x + threadIdx.x;\n",
        "\n",
        "    if (row < M && col < K) {\n",
        "        float sum = 0.0f;\n",
        "        for (int i = 0; i < N; ++i) {\n",
        "            sum += a[row * N + i] * b[i * K + col];\n",
        "        }\n",
        "        c[row * K + col] = sum;\n",
        "    }\n",
        "}\n",
        "\n"
      ],
      "metadata": {
        "colab": {
          "base_uri": "https://localhost:8080/"
        },
        "id": "_IDiQUStFe2i",
        "outputId": "5796c639-b434-4586-cb79-032e2c940bde"
      },
      "execution_count": 4,
      "outputs": [
        {
          "output_type": "stream",
          "name": "stdout",
          "text": [
            "Result Matrix C:\n",
            "30.00\t24.00\t18.00\t\n",
            "84.00\t69.00\t54.00\t\n",
            "138.00\t114.00\t90.00\t\n",
            "Execution Time: 0.022496 ms\n",
            "\n"
          ]
        }
      ]
    },
    {
      "cell_type": "markdown",
      "source": [
        "**SEQUENTIAL MATIRX MULTIPLICATION**"
      ],
      "metadata": {
        "id": "T0ZOXY_WLJn-"
      }
    },
    {
      "cell_type": "code",
      "source": [
        "%%cu\n",
        "#include <stdio.h>\n",
        "#include <time.h>\n",
        "\n",
        "void matrixMulSequential(float *a, float *b, float *c, int M, int N, int K);\n",
        "\n",
        "int main() {\n",
        "    const int M = 3;  //Number of rows in matrix A\n",
        "    const int N = 3;  //Number of columns in matrix A (and rows in matrix B)\n",
        "    const int K = 3;  //Number of columns in matrix B\n",
        "\n",
        "    float h_A[M * N] = {1.0, 2999999999999.0, 3.0, 4.0, 5.0, 6.0, 7.0, 8.0, 9.0};\n",
        "    float h_B[N * K] = {9.0, 8.0, 7.0, 6.0, 5.0, 4999999999.0, 3.0, 2.0, 1.0};\n",
        "    float h_C[M * K] = {0.0};\n",
        "\n",
        "    clock_t start = clock();\n",
        "\n",
        "    matrixMulSequential(h_A, h_B, h_C, M, N, K);\n",
        "\n",
        "    clock_t end = clock();\n",
        "\n",
        "    printf(\"Result Matrix C:\\n\");\n",
        "    for (int i = 0; i < M; ++i) {\n",
        "        for (int j = 0; j < K; ++j) {\n",
        "            printf(\"%.2f\\t\", h_C[i * K + j]);\n",
        "        }\n",
        "        printf(\"\\n\");\n",
        "    }\n",
        "\n",
        "    double seconds = ((double)(end - start)) / CLOCKS_PER_SEC;\n",
        "    printf(\"Execution Time: %f seconds\\n\", seconds);\n",
        "\n",
        "    return 0;\n",
        "}\n",
        "\n",
        "void matrixMulSequential(float *a, float *b, float *c, int M, int N, int K) {\n",
        "    for (int row = 0; row < M; ++row) {\n",
        "        for (int col = 0; col < K; ++col) {\n",
        "            float sum = 0.0;\n",
        "            for (int i = 0; i < N; ++i) {\n",
        "                sum += a[row * N + i] * b[i * K + col];\n",
        "            }\n",
        "            c[row * K + col] = sum;\n",
        "        }\n",
        "    }\n",
        "}\n"
      ],
      "metadata": {
        "colab": {
          "base_uri": "https://localhost:8080/"
        },
        "id": "PW0j8nQ2LJTy",
        "outputId": "a1881a5e-ebae-4f7a-f6f1-db23010e8e67"
      },
      "execution_count": 7,
      "outputs": [
        {
          "output_type": "stream",
          "name": "stdout",
          "text": [
            "Result Matrix C:\n",
            "18000000319488.00\t15000000266240.00\t15000000793194369384448.00\t\n",
            "84.00\t69.00\t24999999488.00\t\n",
            "138.00\t114.00\t40000000000.00\t\n",
            "Execution Time: 0.000001 seconds\n",
            "\n"
          ]
        }
      ]
    },
    {
      "cell_type": "markdown",
      "source": [
        "**SEQUENTIAL MATRIX MULTIPLICATION WITH TILING**"
      ],
      "metadata": {
        "id": "MVtFgLDfNOv_"
      }
    },
    {
      "cell_type": "code",
      "source": [
        "%%cu\n",
        "#include <stdio.h>\n",
        "#include <stdlib.h>\n",
        "\n",
        "void matrixMulSequentialTiled(float *a, float *b, float *c, int M, int N, int K, int tile_size);\n",
        "\n",
        "int main() {\n",
        "    const int M = 3;  //Number of rows in matrix A\n",
        "    const int N = 3;  //Number of columns in matrix A (and rows in matrix B)\n",
        "    const int K = 3;  //Number of columns in matrix B\n",
        "    const int tile_size = 2;  //Size of the tile\n",
        "\n",
        "    float h_A[M * N] = {100.0, 200.0, 300.0, 400.0, 500.0, 600.0, 700.0, 800.0, 900.0};\n",
        "    float h_B[N * K] = {900000.0, 800000.0, 7.0, 6.0, 5.0, 4.0, 39999.0, 2.0, 1.0};\n",
        "    float h_C[M * K] = {0.0};\n",
        "\n",
        "    clock_t start = clock();\n",
        "    matrixMulSequentialTiled(h_A, h_B, h_C, M, N, K, tile_size);\n",
        "    clock_t end = clock();\n",
        "\n",
        "    printf(\"Result Matrix C:\\n\");\n",
        "    for (int i = 0; i < M; ++i) {\n",
        "        for (int j = 0; j < K; ++j) {\n",
        "            printf(\"%.2f\\t\", h_C[i * K + j]);\n",
        "        }\n",
        "        printf(\"\\n\");\n",
        "    }\n",
        "\n",
        "    double seconds = ((double)(end - start)) / CLOCKS_PER_SEC;\n",
        "    printf(\"Execution Time: %f seconds\\n\", seconds);\n",
        "\n",
        "    return 0;\n",
        "}\n",
        "\n",
        "void matrixMulSequentialTiled(float *a, float *b, float *c, int M, int N, int K, int tile_size) {\n",
        "    for (int row = 0; row < M; row += tile_size) {\n",
        "        for (int col = 0; col < K; col += tile_size) {\n",
        "            for (int inner = 0; inner < N; inner += tile_size) {\n",
        "                for (int i = row; i < row + tile_size && i < M; ++i) {\n",
        "                    for (int j = col; j < col + tile_size && j < K; ++j) {\n",
        "                        float sum = 0.0;\n",
        "                        for (int k = inner; k < inner + tile_size && k < N; ++k) {\n",
        "                            sum += a[i * N + k] * b[k * K + j];\n",
        "                        }\n",
        "                        c[i * K + j] += sum;\n",
        "                    }\n",
        "                }\n",
        "            }\n",
        "        }\n",
        "    }\n",
        "}\n"
      ],
      "metadata": {
        "colab": {
          "base_uri": "https://localhost:8080/"
        },
        "id": "BBzUDwG8NTrX",
        "outputId": "de9d4c7a-259f-4ea8-8e64-a01c3ad43312"
      },
      "execution_count": 8,
      "outputs": [
        {
          "output_type": "stream",
          "name": "stdout",
          "text": [
            "Result Matrix C:\n",
            "102000896.00\t80001600.00\t1800.00\t\n",
            "384002400.00\t320003712.00\t5400.00\t\n",
            "666003904.00\t560005760.00\t9000.00\t\n",
            "Execution Time: 0.000001 seconds\n",
            "\n"
          ]
        }
      ]
    },
    {
      "cell_type": "markdown",
      "source": [
        "**CUDA MATRIX MULTIPLICATION WITH TILING**"
      ],
      "metadata": {
        "id": "XPoeazZCN8iP"
      }
    },
    {
      "cell_type": "code",
      "source": [
        "%%cu\n",
        "#include <stdio.h>\n",
        "#include <cuda_runtime.h>\n",
        "#include <stdlib.h>\n",
        "\n",
        "#define TILE_SIZE 16\n",
        "\n",
        "__global__ void matrixMulTiled(float *a, float *b, float *c, int M, int N, int K);\n",
        "\n",
        "int main() {\n",
        "    const int M = 3;  //Number of rows in matrix A\n",
        "    const int N = 3;  //Number of columns in matrix A (and rows in matrix B)\n",
        "    const int K = 3;  //Number of columns in matrix B\n",
        "\n",
        "    float h_A[M * N] = {1.0, 2.0, 3.0, 4.0, 5.0, 6.0, 7.0, 8.0, 9.0};\n",
        "    float h_B[N * K] = {9.0, 8.0, 7.0, 6.0, 5.0, 4.0, 3.0, 2.0, 1.0};\n",
        "    float h_C[M * K] = {0.0};\n",
        "\n",
        "    float *d_A, *d_B, *d_C;\n",
        "    cudaMalloc((void **)&d_A, M * N * sizeof(float));\n",
        "    cudaMalloc((void **)&d_B, N * K * sizeof(float));\n",
        "    cudaMalloc((void **)&d_C, M * K * sizeof(float));\n",
        "\n",
        "    cudaMemcpy(d_A, h_A, M * N * sizeof(float), cudaMemcpyHostToDevice);\n",
        "    cudaMemcpy(d_B, h_B, N * K * sizeof(float), cudaMemcpyHostToDevice);\n",
        "\n",
        "    dim3 dimGrid((K - 1) / TILE_SIZE + 1, (M - 1) / TILE_SIZE + 1, 1);\n",
        "    dim3 dimBlock(TILE_SIZE, TILE_SIZE, 1);\n",
        "\n",
        "    cudaEvent_t start, stop;\n",
        "    cudaEventCreate(&start);\n",
        "    cudaEventCreate(&stop);\n",
        "\n",
        "    cudaEventRecord(start);\n",
        "    matrixMulTiled<<<dimGrid, dimBlock>>>(d_A, d_B, d_C, M, N, K);\n",
        "    cudaEventRecord(stop);\n",
        "\n",
        "    cudaMemcpy(h_C, d_C, M * K * sizeof(float), cudaMemcpyDeviceToHost);\n",
        "\n",
        "    cudaError_t cudaErr = cudaGetLastError();\n",
        "    if (cudaErr != cudaSuccess) {\n",
        "        fprintf(stderr, \"CUDA error: %s\\n\", cudaGetErrorString(cudaErr));\n",
        "        return -1;\n",
        "    }\n",
        "\n",
        "    printf(\"Result Matrix C:\\n\");\n",
        "    for (int i = 0; i < M; ++i) {\n",
        "        for (int j = 0; j < K; ++j) {\n",
        "            printf(\"%.2f\\t\", h_C[i * K + j]);\n",
        "        }\n",
        "        printf(\"\\n\");\n",
        "    }\n",
        "    cudaEventSynchronize(stop);\n",
        "    float milliseconds = 0;\n",
        "    cudaEventElapsedTime(&milliseconds, start, stop);\n",
        "    printf(\"Execution Time: %f ms\\n\", milliseconds);\n",
        "\n",
        "    cudaFree(d_A);\n",
        "    cudaFree(d_B);\n",
        "    cudaFree(d_C);\n",
        "\n",
        "    return 0;\n",
        "}\n",
        "\n",
        "__global__ void matrixMulTiled(float *a, float *b, float *c, int M, int N, int K) {\n",
        "    int row = blockIdx.y * blockDim.y + threadIdx.y;\n",
        "    int col = blockIdx.x * blockDim.x + threadIdx.x;\n",
        "\n",
        "    if (row < M && col < K) {\n",
        "        float sum = 0.0f;\n",
        "        for (int tile = 0; tile < N; tile += TILE_SIZE) {\n",
        "            __shared__ float tile_a[TILE_SIZE][TILE_SIZE];\n",
        "            __shared__ float tile_b[TILE_SIZE][TILE_SIZE];\n",
        "\n",
        "            //Load tiles into shared memory\n",
        "            tile_a[threadIdx.y][threadIdx.x] = a[row * N + tile + threadIdx.x];\n",
        "            tile_b[threadIdx.y][threadIdx.x] = b[(tile + threadIdx.y) * K + col];\n",
        "\n",
        "            //Synchronize to make sure the tiles are loaded\n",
        "            __syncthreads();\n",
        "\n",
        "            //Compute partial sum within the tile\n",
        "            for (int i = 0; i < TILE_SIZE; ++i) {\n",
        "                sum += tile_a[threadIdx.y][i] * tile_b[i][threadIdx.x];\n",
        "            }\n",
        "\n",
        "            //Synchronize before loading the next tile\n",
        "            __syncthreads();\n",
        "        }\n",
        "\n",
        "        // Write the final result to the output matrix\n",
        "        c[row * K + col] = sum;\n",
        "    }\n",
        "}\n"
      ],
      "metadata": {
        "colab": {
          "base_uri": "https://localhost:8080/"
        },
        "id": "8ReItEOgOA9T",
        "outputId": "05bf2d88-baf1-43ab-fd58-bbf12457b7ae"
      },
      "execution_count": 9,
      "outputs": [
        {
          "output_type": "stream",
          "name": "stdout",
          "text": [
            "Result Matrix C:\n",
            "30.00\t24.00\t18.00\t\n",
            "84.00\t69.00\t54.00\t\n",
            "138.00\t114.00\t90.00\t\n",
            "Execution Time: 0.022208 ms\n",
            "\n"
          ]
        }
      ]
    }
  ]
}